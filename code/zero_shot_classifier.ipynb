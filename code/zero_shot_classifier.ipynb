{
 "cells": [
  {
   "cell_type": "markdown",
   "id": "c39ab815-6f43-469a-a6ad-bd3191c097e2",
   "metadata": {},
   "source": [
    "#### Using Zero-Shot Model to Classify Data\n",
    "\n",
    "This code shows how to use zero-shot classifier as a quick and easy way to assign labels of intest to the data. This classifier treats text classification task as a **text entailment problem**. More information on zero-shot classfier can be found in [Yin et al., 2019](https://arxiv.org/abs/1909.00161).\n",
    "\n",
    "In this project, I am using [facebook/bart-large-mnli model](https://huggingface.co/tasks/zero-shot-classification) and 200 tweets about disaster from [Kaggle](https://www.kaggle.com/competitions/nlp-getting-started/data). The tweets have been already labeled and thus can serve as a comparison point for us to evaluate model performance on unseen data. \n",
    "\n",
    "I am using these model to assign 2 labels simultaneously: whether the document is about disaster and whether it is about forrest."
   ]
  },
  {
   "cell_type": "markdown",
   "id": "5fd45686-6cde-4f72-9b41-9b6a0a841960",
   "metadata": {},
   "source": [
    "#### Part 1: Load Model, Data and Run Zero-Shot Classifier"
   ]
  },
  {
   "cell_type": "code",
   "execution_count": 1,
   "id": "40e91674-9c2d-44ba-b0bd-97f16602e48d",
   "metadata": {},
   "outputs": [
    {
     "name": "stderr",
     "output_type": "stream",
     "text": [
      "/Users/volhakatebi/miniconda3/envs/transformers/lib/python3.10/site-packages/scipy/__init__.py:146: UserWarning: A NumPy version >=1.16.5 and <1.23.0 is required for this version of SciPy (detected version 1.23.5\n",
      "  warnings.warn(f\"A NumPy version >={np_minversion} and <{np_maxversion}\"\n"
     ]
    }
   ],
   "source": [
    "from transformers import pipeline\n",
    "classifier = pipeline(\"zero-shot-classification\", model=\"facebook/bart-large-mnli\")\n",
    "import pandas as pd"
   ]
  },
  {
   "cell_type": "code",
   "execution_count": 2,
   "id": "739551f9-e860-4d9a-b929-071eb4399f10",
   "metadata": {},
   "outputs": [
    {
     "data": {
      "text/html": [
       "<div>\n",
       "<style scoped>\n",
       "    .dataframe tbody tr th:only-of-type {\n",
       "        vertical-align: middle;\n",
       "    }\n",
       "\n",
       "    .dataframe tbody tr th {\n",
       "        vertical-align: top;\n",
       "    }\n",
       "\n",
       "    .dataframe thead th {\n",
       "        text-align: right;\n",
       "    }\n",
       "</style>\n",
       "<table border=\"1\" class=\"dataframe\">\n",
       "  <thead>\n",
       "    <tr style=\"text-align: right;\">\n",
       "      <th></th>\n",
       "      <th>text</th>\n",
       "      <th>disaster_true</th>\n",
       "    </tr>\n",
       "    <tr>\n",
       "      <th>id</th>\n",
       "      <th></th>\n",
       "      <th></th>\n",
       "    </tr>\n",
       "  </thead>\n",
       "  <tbody>\n",
       "    <tr>\n",
       "      <th>1</th>\n",
       "      <td>Our Deeds are the Reason of this #earthquake M...</td>\n",
       "      <td>1</td>\n",
       "    </tr>\n",
       "    <tr>\n",
       "      <th>4</th>\n",
       "      <td>Forest fire near La Ronge Sask. Canada</td>\n",
       "      <td>1</td>\n",
       "    </tr>\n",
       "  </tbody>\n",
       "</table>\n",
       "</div>"
      ],
      "text/plain": [
       "                                                 text  disaster_true\n",
       "id                                                                  \n",
       "1   Our Deeds are the Reason of this #earthquake M...              1\n",
       "4              Forest fire near La Ronge Sask. Canada              1"
      ]
     },
     "execution_count": 2,
     "metadata": {},
     "output_type": "execute_result"
    }
   ],
   "source": [
    "df = pd.read_csv(\"disaster_data_labeled.csv\", index_col = \"id\", nrows=200)\n",
    "df.head(2)"
   ]
  },
  {
   "cell_type": "code",
   "execution_count": 3,
   "id": "241f357b-b613-426b-b7fd-8843c8cde0f2",
   "metadata": {},
   "outputs": [],
   "source": [
    "candidate_labels = ['disaster', 'forest']"
   ]
  },
  {
   "cell_type": "code",
   "execution_count": 4,
   "id": "80a73329-b0af-4e15-8ba4-e34f17f5bb95",
   "metadata": {},
   "outputs": [],
   "source": [
    "# Define a function to apply the classifier\n",
    "def apply_classifier(row):\n",
    "    result = classifier(row['text'], candidate_labels, multi_label = True)\n",
    "    return result['scores']"
   ]
  },
  {
   "cell_type": "code",
   "execution_count": 5,
   "id": "053ede29-9f9d-4654-beab-24c70249cdfe",
   "metadata": {},
   "outputs": [
    {
     "data": {
      "text/html": [
       "<div>\n",
       "<style scoped>\n",
       "    .dataframe tbody tr th:only-of-type {\n",
       "        vertical-align: middle;\n",
       "    }\n",
       "\n",
       "    .dataframe tbody tr th {\n",
       "        vertical-align: top;\n",
       "    }\n",
       "\n",
       "    .dataframe thead th {\n",
       "        text-align: right;\n",
       "    }\n",
       "</style>\n",
       "<table border=\"1\" class=\"dataframe\">\n",
       "  <thead>\n",
       "    <tr style=\"text-align: right;\">\n",
       "      <th></th>\n",
       "      <th>text</th>\n",
       "      <th>disaster_true</th>\n",
       "      <th>disaster_pred_prob</th>\n",
       "      <th>forest_pred_prob</th>\n",
       "    </tr>\n",
       "    <tr>\n",
       "      <th>id</th>\n",
       "      <th></th>\n",
       "      <th></th>\n",
       "      <th></th>\n",
       "      <th></th>\n",
       "    </tr>\n",
       "  </thead>\n",
       "  <tbody>\n",
       "    <tr>\n",
       "      <th>1</th>\n",
       "      <td>Our Deeds are the Reason of this #earthquake M...</td>\n",
       "      <td>1</td>\n",
       "      <td>0.986840</td>\n",
       "      <td>0.001377</td>\n",
       "    </tr>\n",
       "    <tr>\n",
       "      <th>4</th>\n",
       "      <td>Forest fire near La Ronge Sask. Canada</td>\n",
       "      <td>1</td>\n",
       "      <td>0.949915</td>\n",
       "      <td>0.557649</td>\n",
       "    </tr>\n",
       "    <tr>\n",
       "      <th>5</th>\n",
       "      <td>All residents asked to 'shelter in place' are ...</td>\n",
       "      <td>1</td>\n",
       "      <td>0.081987</td>\n",
       "      <td>0.033703</td>\n",
       "    </tr>\n",
       "  </tbody>\n",
       "</table>\n",
       "</div>"
      ],
      "text/plain": [
       "                                                 text  disaster_true  \\\n",
       "id                                                                     \n",
       "1   Our Deeds are the Reason of this #earthquake M...              1   \n",
       "4              Forest fire near La Ronge Sask. Canada              1   \n",
       "5   All residents asked to 'shelter in place' are ...              1   \n",
       "\n",
       "    disaster_pred_prob  forest_pred_prob  \n",
       "id                                        \n",
       "1             0.986840          0.001377  \n",
       "4             0.949915          0.557649  \n",
       "5             0.081987          0.033703  "
      ]
     },
     "execution_count": 5,
     "metadata": {},
     "output_type": "execute_result"
    }
   ],
   "source": [
    "#apply classifier\n",
    "df[['disaster_pred_prob', 'forest_pred_prob']] = df.apply(apply_classifier, axis=1, result_type='expand')\n",
    "df.head(3)"
   ]
  },
  {
   "cell_type": "markdown",
   "id": "5b3f1e1c-fb02-4f36-b93f-1f11fb748a35",
   "metadata": {},
   "source": [
    "#### Part 2: Explore Misclassified Documents"
   ]
  },
  {
   "cell_type": "code",
   "execution_count": 6,
   "id": "35e51030-aa13-4107-b43b-4ca23402311d",
   "metadata": {},
   "outputs": [
    {
     "data": {
      "text/html": [
       "<div>\n",
       "<style scoped>\n",
       "    .dataframe tbody tr th:only-of-type {\n",
       "        vertical-align: middle;\n",
       "    }\n",
       "\n",
       "    .dataframe tbody tr th {\n",
       "        vertical-align: top;\n",
       "    }\n",
       "\n",
       "    .dataframe thead th {\n",
       "        text-align: right;\n",
       "    }\n",
       "</style>\n",
       "<table border=\"1\" class=\"dataframe\">\n",
       "  <thead>\n",
       "    <tr style=\"text-align: right;\">\n",
       "      <th></th>\n",
       "      <th>text</th>\n",
       "      <th>disaster_true</th>\n",
       "      <th>disaster_pred_prob</th>\n",
       "      <th>forest_pred_prob</th>\n",
       "      <th>disaster_pred_label</th>\n",
       "    </tr>\n",
       "    <tr>\n",
       "      <th>id</th>\n",
       "      <th></th>\n",
       "      <th></th>\n",
       "      <th></th>\n",
       "      <th></th>\n",
       "      <th></th>\n",
       "    </tr>\n",
       "  </thead>\n",
       "  <tbody>\n",
       "    <tr>\n",
       "      <th>1</th>\n",
       "      <td>Our Deeds are the Reason of this #earthquake M...</td>\n",
       "      <td>1</td>\n",
       "      <td>0.986840</td>\n",
       "      <td>0.001377</td>\n",
       "      <td>1</td>\n",
       "    </tr>\n",
       "    <tr>\n",
       "      <th>4</th>\n",
       "      <td>Forest fire near La Ronge Sask. Canada</td>\n",
       "      <td>1</td>\n",
       "      <td>0.949915</td>\n",
       "      <td>0.557649</td>\n",
       "      <td>1</td>\n",
       "    </tr>\n",
       "    <tr>\n",
       "      <th>5</th>\n",
       "      <td>All residents asked to 'shelter in place' are ...</td>\n",
       "      <td>1</td>\n",
       "      <td>0.081987</td>\n",
       "      <td>0.033703</td>\n",
       "      <td>0</td>\n",
       "    </tr>\n",
       "  </tbody>\n",
       "</table>\n",
       "</div>"
      ],
      "text/plain": [
       "                                                 text  disaster_true  \\\n",
       "id                                                                     \n",
       "1   Our Deeds are the Reason of this #earthquake M...              1   \n",
       "4              Forest fire near La Ronge Sask. Canada              1   \n",
       "5   All residents asked to 'shelter in place' are ...              1   \n",
       "\n",
       "    disaster_pred_prob  forest_pred_prob  disaster_pred_label  \n",
       "id                                                             \n",
       "1             0.986840          0.001377                    1  \n",
       "4             0.949915          0.557649                    1  \n",
       "5             0.081987          0.033703                    0  "
      ]
     },
     "execution_count": 6,
     "metadata": {},
     "output_type": "execute_result"
    }
   ],
   "source": [
    "df['disaster_pred_label'] = (df['disaster_pred_prob'] >= 0.5).astype(int)\n",
    "df.head(3)"
   ]
  },
  {
   "cell_type": "code",
   "execution_count": 7,
   "id": "099dfd22-db4a-4e53-a226-6008d580f6b3",
   "metadata": {},
   "outputs": [
    {
     "name": "stdout",
     "output_type": "stream",
     "text": [
      "Number of mismatching rows: 40\n"
     ]
    }
   ],
   "source": [
    "mismatch_count = (df['disaster_true'] != df['disaster_pred_label']).sum()\n",
    "print(\"Number of mismatching rows:\", mismatch_count)"
   ]
  },
  {
   "cell_type": "code",
   "execution_count": 12,
   "id": "57059d95-8089-4312-918d-7f5c6fabbe06",
   "metadata": {},
   "outputs": [
    {
     "name": "stdout",
     "output_type": "stream",
     "text": [
      "Mismatching rows:\n"
     ]
    },
    {
     "data": {
      "text/html": [
       "<div>\n",
       "<style scoped>\n",
       "    .dataframe tbody tr th:only-of-type {\n",
       "        vertical-align: middle;\n",
       "    }\n",
       "\n",
       "    .dataframe tbody tr th {\n",
       "        vertical-align: top;\n",
       "    }\n",
       "\n",
       "    .dataframe thead th {\n",
       "        text-align: right;\n",
       "    }\n",
       "</style>\n",
       "<table border=\"1\" class=\"dataframe\">\n",
       "  <thead>\n",
       "    <tr style=\"text-align: right;\">\n",
       "      <th></th>\n",
       "      <th>text</th>\n",
       "      <th>disaster_true</th>\n",
       "      <th>disaster_pred_prob</th>\n",
       "      <th>forest_pred_prob</th>\n",
       "      <th>disaster_pred_label</th>\n",
       "    </tr>\n",
       "    <tr>\n",
       "      <th>id</th>\n",
       "      <th></th>\n",
       "      <th></th>\n",
       "      <th></th>\n",
       "      <th></th>\n",
       "      <th></th>\n",
       "    </tr>\n",
       "  </thead>\n",
       "  <tbody>\n",
       "    <tr>\n",
       "      <th>5</th>\n",
       "      <td>All residents asked to 'shelter in place' are ...</td>\n",
       "      <td>1</td>\n",
       "      <td>0.081987</td>\n",
       "      <td>0.033703</td>\n",
       "      <td>0</td>\n",
       "    </tr>\n",
       "    <tr>\n",
       "      <th>8</th>\n",
       "      <td>#RockyFire Update =&gt; California Hwy. 20 closed...</td>\n",
       "      <td>1</td>\n",
       "      <td>0.379244</td>\n",
       "      <td>0.020025</td>\n",
       "      <td>0</td>\n",
       "    </tr>\n",
       "    <tr>\n",
       "      <th>28</th>\n",
       "      <td>What a goooooooaaaaaal!!!!!!</td>\n",
       "      <td>0</td>\n",
       "      <td>0.644796</td>\n",
       "      <td>0.261415</td>\n",
       "      <td>1</td>\n",
       "    </tr>\n",
       "    <tr>\n",
       "      <th>31</th>\n",
       "      <td>this is ridiculous....</td>\n",
       "      <td>0</td>\n",
       "      <td>0.981207</td>\n",
       "      <td>0.142747</td>\n",
       "      <td>1</td>\n",
       "    </tr>\n",
       "    <tr>\n",
       "      <th>37</th>\n",
       "      <td>No way...I can't eat that shit</td>\n",
       "      <td>0</td>\n",
       "      <td>0.983586</td>\n",
       "      <td>0.314536</td>\n",
       "      <td>1</td>\n",
       "    </tr>\n",
       "  </tbody>\n",
       "</table>\n",
       "</div>"
      ],
      "text/plain": [
       "                                                 text  disaster_true  \\\n",
       "id                                                                     \n",
       "5   All residents asked to 'shelter in place' are ...              1   \n",
       "8   #RockyFire Update => California Hwy. 20 closed...              1   \n",
       "28                       What a goooooooaaaaaal!!!!!!              0   \n",
       "31                             this is ridiculous....              0   \n",
       "37                     No way...I can't eat that shit              0   \n",
       "\n",
       "    disaster_pred_prob  forest_pred_prob  disaster_pred_label  \n",
       "id                                                             \n",
       "5             0.081987          0.033703                    0  \n",
       "8             0.379244          0.020025                    0  \n",
       "28            0.644796          0.261415                    1  \n",
       "31            0.981207          0.142747                    1  \n",
       "37            0.983586          0.314536                    1  "
      ]
     },
     "execution_count": 12,
     "metadata": {},
     "output_type": "execute_result"
    }
   ],
   "source": [
    "mismatched_rows = df[df['disaster_true'] != df['disaster_pred_label']]\n",
    "print(\"Mismatching rows:\")\n",
    "mismatched_rows.head(5)"
   ]
  },
  {
   "cell_type": "markdown",
   "id": "25ebf695-eb6b-4fe9-9a51-ae10624d0448",
   "metadata": {},
   "source": [
    "Thus, we can see that zero-shot classifier was able to **correctly** identify disaster-related label in **160 out of 200 cases**, which is a great result considering that this is new data and no fine-tuning has been performed!"
   ]
  }
 ],
 "metadata": {
  "kernelspec": {
   "display_name": "Python [conda env:transformers]",
   "language": "python",
   "name": "conda-env-transformers-py"
  },
  "language_info": {
   "codemirror_mode": {
    "name": "ipython",
    "version": 3
   },
   "file_extension": ".py",
   "mimetype": "text/x-python",
   "name": "python",
   "nbconvert_exporter": "python",
   "pygments_lexer": "ipython3",
   "version": "3.10.9"
  }
 },
 "nbformat": 4,
 "nbformat_minor": 5
}
